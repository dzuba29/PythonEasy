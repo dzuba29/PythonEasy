{
 "cells": [
  {
   "cell_type": "code",
   "execution_count": 21,
   "metadata": {},
   "outputs": [],
   "source": [
    "import pandas as pd\n",
    "import numpy as np\n",
    "import matplotlib.pyplot as plt\n",
    "from scipy.stats.contingency import expected_freq\n",
    "from collections import Counter\n",
    "from scipy import stats\n",
    "import statsmodels.api as sm"
   ]
  },
  {
   "cell_type": "markdown",
   "metadata": {},
   "source": [
    "# Чтение из файла"
   ]
  },
  {
   "cell_type": "code",
   "execution_count": 22,
   "metadata": {},
   "outputs": [
    {
     "data": {
      "text/html": [
       "<div>\n",
       "<style scoped>\n",
       "    .dataframe tbody tr th:only-of-type {\n",
       "        vertical-align: middle;\n",
       "    }\n",
       "\n",
       "    .dataframe tbody tr th {\n",
       "        vertical-align: top;\n",
       "    }\n",
       "\n",
       "    .dataframe thead th {\n",
       "        text-align: right;\n",
       "    }\n",
       "</style>\n",
       "<table border=\"1\" class=\"dataframe\">\n",
       "  <thead>\n",
       "    <tr style=\"text-align: right;\">\n",
       "      <th></th>\n",
       "      <th>X</th>\n",
       "      <th>Y</th>\n",
       "    </tr>\n",
       "  </thead>\n",
       "  <tbody>\n",
       "    <tr>\n",
       "      <th>0</th>\n",
       "      <td>174</td>\n",
       "      <td>70</td>\n",
       "    </tr>\n",
       "    <tr>\n",
       "      <th>1</th>\n",
       "      <td>166</td>\n",
       "      <td>57</td>\n",
       "    </tr>\n",
       "    <tr>\n",
       "      <th>2</th>\n",
       "      <td>161</td>\n",
       "      <td>55</td>\n",
       "    </tr>\n",
       "    <tr>\n",
       "      <th>3</th>\n",
       "      <td>172</td>\n",
       "      <td>60</td>\n",
       "    </tr>\n",
       "    <tr>\n",
       "      <th>4</th>\n",
       "      <td>166</td>\n",
       "      <td>57</td>\n",
       "    </tr>\n",
       "  </tbody>\n",
       "</table>\n",
       "</div>"
      ],
      "text/plain": [
       "     X   Y\n",
       "0  174  70\n",
       "1  166  57\n",
       "2  161  55\n",
       "3  172  60\n",
       "4  166  57"
      ]
     },
     "execution_count": 22,
     "metadata": {},
     "output_type": "execute_result"
    }
   ],
   "source": [
    "data=pd.read_csv('data.csv')\n",
    "data.head()\n"
   ]
  },
  {
   "cell_type": "markdown",
   "metadata": {},
   "source": [
    "# Подсчет и вывод частот для всех x"
   ]
  },
  {
   "cell_type": "code",
   "execution_count": 23,
   "metadata": {},
   "outputs": [
    {
     "name": "stdout",
     "output_type": "stream",
     "text": [
      "{161: 0.03, 162: 0.03, 163: 0.03, 164: 0.07, 165: 0.04, 166: 0.06, 167: 0.11, 168: 0.07, 169: 0.06, 170: 0.08, 171: 0.05, 172: 0.08, 173: 0.09, 174: 0.03, 175: 0.02, 176: 0.05, 177: 0.01, 178: 0.04, 180: 0.01, 156: 0.03, 157: 0.01}\n"
     ]
    }
   ],
   "source": [
    "c = Counter(data['X'])\n",
    "data_freq={k: v/100.0 for k, v in c.items()}\n",
    "print(data_freq)"
   ]
  },
  {
   "cell_type": "markdown",
   "metadata": {},
   "source": [
    "# Эмпирическая функция распределения"
   ]
  },
  {
   "cell_type": "code",
   "execution_count": 24,
   "metadata": {},
   "outputs": [
    {
     "data": {
      "image/png": "[encoded data removed]",
      "text/plain": [
       "<Figure size 432x288 with 1 Axes>"
      ]
     },
     "metadata": {},
     "output_type": "display_data"
    }
   ],
   "source": [
    "ecdf = sm.distributions.ECDF(data['X'])\n",
    "x = np.linspace(min(data['X']), max(data['X']))\n",
    "y = ecdf(x)\n",
    "plt.step(x, y)\n",
    "plt.show()"
   ]
  },
  {
   "cell_type": "markdown",
   "metadata": {},
   "source": [
    "# Числовые характеристики"
   ]
  },
  {
   "cell_type": "code",
   "execution_count": 25,
   "metadata": {},
   "outputs": [
    {
     "name": "stdout",
     "output_type": "stream",
     "text": [
      "\n",
      "Нормальность распределения (Критерий Колмогорова):\n",
      "KstestResult(statistic=1.0, pvalue=0.0)\n",
      "\n",
      "Мода выборки:\n",
      "ModeResult(mode=array([167]), count=array([11]))\n",
      "\n",
      "Медиана:\n",
      "169.0\n",
      "\n",
      "Среднее значение:\n",
      "168.83\n",
      "\n",
      "Дисперсия:\n",
      "25.8411\n",
      "\n",
      "Среднее квадратичное отклонение:\n",
      "5.083414207006941\n",
      "\n",
      "Коэффициент вариации:\n",
      "25.8411\n",
      "\n",
      "Коэффициент ассимитрии:\n",
      "-0.2649654163821299\n",
      "\n",
      "Эксцесс:\n",
      "-0.041702247996938446\n"
     ]
    }
   ],
   "source": [
    "print(\"\\nНормальность распределения (Критерий Колмогорова):\")\n",
    "\n",
    "print(stats.kstest(data['X'], 'norm'))\n",
    "\n",
    "print(\"\\nМода выборки:\")\n",
    "\n",
    "print(stats.mode(data['X']))\n",
    "\n",
    "print(\"\\nМедиана:\")\n",
    "\n",
    "print(np.median(data['X']))\n",
    "\n",
    "print(\"\\nСреднее значение:\")\n",
    "\n",
    "print(np.mean(data['X']))\n",
    "\n",
    "print(\"\\nДисперсия:\")\n",
    "\n",
    "print(np.var(data['X']))\n",
    "\n",
    "print(\"\\nСреднее квадратичное отклонение:\")\n",
    "\n",
    "print(np.std(data['X']))\n",
    "\n",
    "print(\"\\nКоэффициент вариации:\")\n",
    "\n",
    "print(np.var(data['X']))\n",
    "\n",
    "print(\"\\nКоэффициент ассимитрии:\")\n",
    "\n",
    "print(stats.skew(data['X']))\n",
    "\n",
    "print(\"\\nЭксцесс:\")\n",
    "\n",
    "print(stats.kurtosis(data['X'])) "
   ]
  },
  {
   "cell_type": "code",
   "execution_count": 28,
   "metadata": {},
   "outputs": [
    {
     "data": {
      "image/png": "[encoded data removed]",
      "text/plain": [
       "<Figure size 432x288 with 1 Axes>"
      ]
     },
     "metadata": {},
     "output_type": "display_data"
    }
   ],
   "source": [
    "plt.hist(data['X'], 50)\n",
    "plt.show()"
   ]
  },
  {
   "cell_type": "code",
   "execution_count": 30,
   "metadata": {},
   "outputs": [
    {
     "data": {
      "text/plain": [
       "<matplotlib.collections.PathCollection at 0x7fe537dc2438>"
      ]
     },
     "execution_count": 30,
     "metadata": {},
     "output_type": "execute_result"
    },
    {
     "data": {
      "image/png": "[encoded data removed]",
      "text/plain": [
       "<Figure size 432x288 with 1 Axes>"
      ]
     },
     "metadata": {},
     "output_type": "display_data"
    }
   ],
   "source": [
    "plt.scatter(data['X'],data['Y'])"
   ]
  },
  {
   "cell_type": "code",
   "execution_count": null,
   "metadata": {},
   "outputs": [],
   "source": []
  }
 ],
 "metadata": {
  "kernelspec": {
   "display_name": "Python 3",
   "language": "python",
   "name": "python3"
  },
  "language_info": {
   "codemirror_mode": {
    "name": "ipython",
    "version": 3
   },
   "file_extension": ".py",
   "mimetype": "text/x-python",
   "name": "python",
   "nbconvert_exporter": "python",
   "pygments_lexer": "ipython3",
   "version": "3.5.2"
  }
 },
 "nbformat": 4,
 "nbformat_minor": 2
}
