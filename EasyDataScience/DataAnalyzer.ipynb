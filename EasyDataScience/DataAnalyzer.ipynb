{
 "cells": [
  {
   "cell_type": "code",
   "execution_count": 123,
   "metadata": {},
   "outputs": [],
   "source": [
    "import pandas as pd\n",
    "import numpy as np\n",
    "import matplotlib.pyplot as plt\n",
    "from scipy.stats.contingency import expected_freq\n",
    "from scipy import stats\n",
    "import statsmodels.api as sm\n",
    "from sklearn.linear_model import LinearRegression\n",
    "from statsmodels.formula.api import ols\n",
    "%matplotlib inline"
   ]
  },
  {
   "cell_type": "markdown",
   "metadata": {},
   "source": [
    "# Задание\n",
    "## Вариант 8."
   ]
  },
  {
   "cell_type": "markdown",
   "metadata": {},
   "source": [
    "Обработайте статистические данные 100 независимых измерений некоторой физической величины Х.\n",
    "\n",
    "а) Составьте статистическое распределение частот выборки Х.\n",
    "\n",
    "б) Найдите эмпирическую функцию распределения и постройте ее график.\n",
    "\n",
    "в) Постройте полигон и гистограмму относительных частот.\n",
    "\n",
    "г) Вычислите числовые характеристики:\n",
    "\n",
    "• выборочную среднюю;\n",
    "\n",
    "• выборочную дисперсию;\n",
    "\n",
    "• выборочное среднее квадратическое отклонение;\n",
    "\n",
    "• коэффициенты эксцесса и ассиметрии.\n",
    "\n",
    "д) Выдвинув гипотезу о нормальном распределении, проверьте ее критерием согласия Пирсона при уровне значимости а = 0.05.\n",
    "\n",
    "е) Найдите точечные и интервальные оценки параметров распределения (доверительную вероятность принять равной 0.95). "
   ]
  },
  {
   "cell_type": "markdown",
   "metadata": {},
   "source": [
    "# Чтение из файла и гистограмма величин X"
   ]
  },
  {
   "cell_type": "code",
   "execution_count": 124,
   "metadata": {},
   "outputs": [
    {
     "data": {
      "text/html": [
       "<div>\n",
       "<style scoped>\n",
       "    .dataframe tbody tr th:only-of-type {\n",
       "        vertical-align: middle;\n",
       "    }\n",
       "\n",
       "    .dataframe tbody tr th {\n",
       "        vertical-align: top;\n",
       "    }\n",
       "\n",
       "    .dataframe thead th {\n",
       "        text-align: right;\n",
       "    }\n",
       "</style>\n",
       "<table border=\"1\" class=\"dataframe\">\n",
       "  <thead>\n",
       "    <tr style=\"text-align: right;\">\n",
       "      <th></th>\n",
       "      <th>X</th>\n",
       "      <th>Y</th>\n",
       "    </tr>\n",
       "  </thead>\n",
       "  <tbody>\n",
       "    <tr>\n",
       "      <th>0</th>\n",
       "      <td>174</td>\n",
       "      <td>70</td>\n",
       "    </tr>\n",
       "    <tr>\n",
       "      <th>1</th>\n",
       "      <td>166</td>\n",
       "      <td>57</td>\n",
       "    </tr>\n",
       "    <tr>\n",
       "      <th>2</th>\n",
       "      <td>161</td>\n",
       "      <td>55</td>\n",
       "    </tr>\n",
       "    <tr>\n",
       "      <th>3</th>\n",
       "      <td>172</td>\n",
       "      <td>60</td>\n",
       "    </tr>\n",
       "    <tr>\n",
       "      <th>4</th>\n",
       "      <td>166</td>\n",
       "      <td>57</td>\n",
       "    </tr>\n",
       "  </tbody>\n",
       "</table>\n",
       "</div>"
      ],
      "text/plain": [
       "     X   Y\n",
       "0  174  70\n",
       "1  166  57\n",
       "2  161  55\n",
       "3  172  60\n",
       "4  166  57"
      ]
     },
     "execution_count": 124,
     "metadata": {},
     "output_type": "execute_result"
    }
   ],
   "source": [
    "data=pd.read_csv('data.csv')\n",
    "data.head()\n"
   ]
  },
  {
   "cell_type": "code",
   "execution_count": 125,
   "metadata": {},
   "outputs": [
    {
     "name": "stderr",
     "output_type": "stream",
     "text": [
      "/usr/local/lib/python3.5/dist-packages/matplotlib/axes/_axes.py:6448: UserWarning: The 'normed' kwarg is deprecated, and has been replaced by the 'density' kwarg.\n",
      "  warnings.warn(\"The 'normed' kwarg is deprecated, and has been \"\n"
     ]
    },
    {
     "data": {
      "image/png": "[encoded data removed]",
      "text/plain": [
       "<Figure size 432x288 with 1 Axes>"
      ]
     },
     "metadata": {},
     "output_type": "display_data"
    }
   ],
   "source": [
    "plt.hist(data['X'],50, normed='True')\n",
    "plt.show()"
   ]
  },
  {
   "cell_type": "markdown",
   "metadata": {},
   "source": [
    "# Подсчет и вывод частот для xk"
   ]
  },
  {
   "cell_type": "code",
   "execution_count": 126,
   "metadata": {},
   "outputs": [
    {
     "name": "stdout",
     "output_type": "stream",
     "text": [
      "\n",
      "Максимум\n",
      "180\n",
      "\n",
      "Минимум\n",
      "156\n",
      "\n",
      "Дельта макс. и мин.\n",
      "24\n",
      "\n",
      "Кол-во отрезков\n",
      "8\n",
      "\n",
      "Шаг\n",
      "3\n"
     ]
    }
   ],
   "source": [
    "X_max=max(data['X'])\n",
    "X_min=min(data['X'])\n",
    "R=X_max-X_min\n",
    "K=int(round(1.0+3.32*np.log10(100)))\n",
    "H=int(R/K)\n",
    "\n",
    "print(\"\\nМаксимум\")\n",
    "print(X_max)\n",
    "\n",
    "print(\"\\nМинимум\")\n",
    "print(X_min)\n",
    "\n",
    "print(\"\\nДельта макс. и мин.\")\n",
    "print(R)\n",
    "               \n",
    "print(\"\\nКол-во отрезков\")\n",
    "print(K)\n",
    "\n",
    "print(\"\\nШаг\")             \n",
    "print(H)"
   ]
  },
  {
   "cell_type": "code",
   "execution_count": 127,
   "metadata": {},
   "outputs": [
    {
     "name": "stdout",
     "output_type": "stream",
     "text": [
      "\n",
      " Частоты по интервалам:\n",
      "[0.04, 0.06, 0.14, 0.24, 0.19, 0.2, 0.08, 0.05]\n",
      "\n",
      " Сумма частот:\n",
      "1\n"
     ]
    },
    {
     "data": {
      "image/png": "[encoded data removed]",
      "text/plain": [
       "<Figure size 432x288 with 1 Axes>"
      ]
     },
     "metadata": {},
     "output_type": "display_data"
    },
    {
     "data": {
      "image/png": "[encoded data removed]",
      "text/plain": [
       "<Figure size 432x288 with 1 Axes>"
      ]
     },
     "metadata": {},
     "output_type": "display_data"
    }
   ],
   "source": [
    "def intervals_cumsum(x_min,step,size):\n",
    "    start=x_min;a=[];b=[]\n",
    "    for i in range(size):\n",
    "        a.append(start)\n",
    "        start+=step\n",
    "        b.append(start)\n",
    "    return a,b\n",
    "\n",
    "def count_values(data,element):\n",
    "    count=0;counts=[]\n",
    "    for item in data['X']:\n",
    "        if item<=element:\n",
    "            count+=1\n",
    "    return count\n",
    "   \n",
    "def counter_in(data,b):\n",
    "    delta=[];f=0\n",
    "    for index in range(len(b)):\n",
    "        first=count_values(data,b[index])-f\n",
    "        delta.append(first)\n",
    "        f+=first\n",
    "    return delta\n",
    "  \n",
    "        \n",
    "def frequences(ni,n):\n",
    "    freq=[]\n",
    "    for item in ni:\n",
    "        freq.append(item/n)\n",
    "    return freq\n",
    "        \n",
    "a,b=intervals_cumsum(X_min,H,K)\n",
    "ni=counter_in(data,b)\n",
    "freq=frequences(ni,100)\n",
    "print('\\n Частоты по интервалам:')\n",
    "print(freq)\n",
    "print('\\n Сумма частот:')\n",
    "print(round(sum(freq)))\n",
    "\n",
    "x=np.linspace(0,25,8)\n",
    "plt.plot(x,freq)\n",
    "plt.title('Полигон')\n",
    "plt.show()\n",
    "\n",
    "\n",
    "plt.hist(x,10,weights=freq)\n",
    "plt.title('Гистограмма')\n",
    "plt.show()\n"
   ]
  },
  {
   "cell_type": "markdown",
   "metadata": {},
   "source": [
    "# Эмпирическая функция распределения"
   ]
  },
  {
   "cell_type": "code",
   "execution_count": 128,
   "metadata": {},
   "outputs": [
    {
     "data": {
      "image/png": "[encoded data removed]",
      "text/plain": [
       "<Figure size 432x288 with 1 Axes>"
      ]
     },
     "metadata": {},
     "output_type": "display_data"
    }
   ],
   "source": [
    "ecdf = sm.distributions.ECDF(data['X'])\n",
    "x = np.linspace(min(data['X']), max(data['X']))\n",
    "y = ecdf(x)\n",
    "plt.step(x, y)\n",
    "plt.show()"
   ]
  },
  {
   "cell_type": "markdown",
   "metadata": {},
   "source": [
    "# Числовые характеристики"
   ]
  },
  {
   "cell_type": "code",
   "execution_count": 129,
   "metadata": {},
   "outputs": [
    {
     "name": "stdout",
     "output_type": "stream",
     "text": [
      "\n",
      "Нормальность распределения (Критерий Колмогорова):\n",
      "KstestResult(statistic=1.0, pvalue=0.0)\n",
      "\n",
      "Мода выборки:\n",
      "ModeResult(mode=array([167]), count=array([11]))\n",
      "\n",
      "Медиана:\n",
      "169.0\n",
      "\n",
      "Среднее значение:\n",
      "168.83\n",
      "\n",
      "Дисперсия:\n",
      "25.8411\n",
      "\n",
      "Среднее квадратичное отклонение:\n",
      "5.083414207006941\n",
      "\n",
      "Коэффициент вариации:\n",
      "25.8411\n",
      "\n",
      "Коэффициент асимметрии:\n",
      "-0.2649654163821299\n",
      "\n",
      "Эксцесс:\n",
      "-0.041702247996938446\n"
     ]
    }
   ],
   "source": [
    "print(\"\\nНормальность распределения (Критерий Колмогорова):\")\n",
    "\n",
    "print(stats.kstest(data['X'], 'norm'))\n",
    "\n",
    "print(\"\\nМода выборки:\")\n",
    "\n",
    "print(stats.mode(data['X']))\n",
    "\n",
    "print(\"\\nМедиана:\")\n",
    "\n",
    "print(np.median(data['X']))\n",
    "\n",
    "print(\"\\nСреднее значение:\")\n",
    "\n",
    "\n",
    "print(np.mean(data['X']))\n",
    "\n",
    "print(\"\\nДисперсия:\")\n",
    "\n",
    "print(np.var(data['X']))\n",
    "\n",
    "print(\"\\nСреднее квадратичное отклонение:\")\n",
    "\n",
    "print(np.std(data['X']))\n",
    "\n",
    "print(\"\\nКоэффициент вариации:\")\n",
    "\n",
    "print(np.var(data['X']))\n",
    "\n",
    "print(\"\\nКоэффициент асимметрии:\")\n",
    "\n",
    "print(stats.skew(data['X']))\n",
    "\n",
    "print(\"\\nЭксцесс:\")\n",
    "\n",
    "print(stats.kurtosis(data['X'])) "
   ]
  },
  {
   "cell_type": "markdown",
   "metadata": {},
   "source": [
    "# Точечные и интервальные оценки параметров распределения "
   ]
  },
  {
   "cell_type": "code",
   "execution_count": 130,
   "metadata": {},
   "outputs": [],
   "source": [
    "T_coef=1.98\n",
    "\n",
    "def get_mean_intervals(a,b):\n",
    "    means=[]\n",
    "    for i in range(len(a)):\n",
    "        means.append((a[i]+b[i])/2)\n",
    "    return means\n",
    "\n",
    "def mean_mult_freq(means,freq):\n",
    "    m=[]\n",
    "    for i in range(len(means)):\n",
    "        m.append(means[i]*freq[i])\n",
    "    return m\n",
    "\n",
    "def get_d(means):\n",
    "    data=[]\n",
    "    for item in means:\n",
    "        data.append(round(item-sum(mean_mult_freq(means,freq)),2))\n",
    "    return data\n",
    "\n",
    "def get_d2(d,freq):\n",
    "    data=[]\n",
    "    for i in range(len(d)):\n",
    "        data.append(round(d[i]**2*freq[i],2))\n",
    "    return data\n",
    "\n",
    "means=get_mean_intervals(a,b)\n",
    "\n",
    "d=get_d(means)\n",
    "d=get_d2(d,freq)\n",
    "\n",
    "# def find_s(data,mean):\n",
    "#     summ=0.0\n",
    "#     for item in data['X']:\n",
    "#         summ+=(item-mean)**2\n",
    "#     return np.sqrt(summ)\n",
    "\n",
    "S=np.sqrt(sum(d)*100/99)\n",
    "yolo=T_coef*S/np.sqrt(len(data['X']))\n",
    "xmax=round(np.mean(data['X'])+yolo,2)\n",
    "xmin=round(np.mean(data['X'])-yolo,2)"
   ]
  },
  {
   "cell_type": "markdown",
   "metadata": {},
   "source": [
    "Интервальная оценка"
   ]
  },
  {
   "cell_type": "code",
   "execution_count": 131,
   "metadata": {},
   "outputs": [
    {
     "name": "stdout",
     "output_type": "stream",
     "text": [
      "167.83<a<169.83\n"
     ]
    }
   ],
   "source": [
    "print(str(xmin)+'<a<'+str(xmax))"
   ]
  },
  {
   "cell_type": "code",
   "execution_count": 132,
   "metadata": {},
   "outputs": [
    {
     "name": "stdout",
     "output_type": "stream",
     "text": [
      "(0.6507666866642714, 2.319174102676314e-13)\n"
     ]
    }
   ],
   "source": [
    "coef_corr=stats.pearsonr(data['X'],data['Y'])\n",
    "print(coef_corr)"
   ]
  },
  {
   "cell_type": "markdown",
   "metadata": {},
   "source": [
    "Вывод:\n",
    "coef_corr должны быть равны нулю т.к X и Y независимы, но этого не происходит, следовательно переменные X и Y имеют нормальное распределение."
   ]
  },
  {
   "cell_type": "markdown",
   "metadata": {},
   "source": [
    "# Регрессия"
   ]
  },
  {
   "cell_type": "code",
   "execution_count": 133,
   "metadata": {},
   "outputs": [
    {
     "name": "stdout",
     "output_type": "stream",
     "text": [
      "\n",
      " Коэффициент линейной регрессии\n",
      "0.8748195703743263\n",
      "\n",
      " R-квадрат\n",
      "0.42349728047199375\n",
      "\n",
      " Уравнение регрессии\n",
      "y=0.8748195703743263*(x-168.83)+64.39\n",
      "\n",
      " Множественный R\n",
      "0.6507666866642716\n",
      "\n",
      " Нормированный R квадрат\n",
      "0.413998338640049\n",
      "\n",
      " Стандартная ошибка\n",
      "5.109023508667896\n",
      "\n",
      " Наблюдения\n",
      "100\n"
     ]
    },
    {
     "data": {
      "image/png": "[encoded data removed]",
      "text/plain": [
       "<Figure size 432x288 with 1 Axes>"
      ]
     },
     "metadata": {},
     "output_type": "display_data"
    }
   ],
   "source": [
    "lr=LinearRegression().fit(data[['X']], data[['Y']])\n",
    "\n",
    "print('\\n Коэффициент линейной регрессии')\n",
    "print(lr.coef_[0][0])\n",
    "print('\\n R-квадрат')\n",
    "print(lr.score(data[['X']], data[['Y']]))\n",
    "print('\\n Уравнение регрессии')\n",
    "print('y='+str(lr.coef_[0][0])+'*'+'(x-'+str(np.mean(data['X']))+')'+'+'+str(np.mean(data['Y'])))\n",
    "print('\\n Множественный R')\n",
    "print(data.corr()['Y'][0])\n",
    "print('\\n Нормированный R квадрат')\n",
    "print(1-(1-data.corr()['Y'][0])*(len(data['X'])-1)/(len(data['X'])-41))\n",
    "print('\\n Стандартная ошибка')\n",
    "print(np.std(data['X'], ddof=1)) \n",
    "print('\\n Наблюдения')\n",
    "print(len(data['X'])) \n",
    "\n",
    "\n",
    "plt.plot(data[['X']], lr.predict(data[['X']]), color='blue',linewidth=3)\n",
    "plt.scatter(data['X'],data['Y'])\n",
    "plt.show()\n"
   ]
  },
  {
   "cell_type": "markdown",
   "metadata": {},
   "source": [
    "# Дисперсионный анализ"
   ]
  },
  {
   "cell_type": "code",
   "execution_count": 134,
   "metadata": {},
   "outputs": [
    {
     "name": "stdout",
     "output_type": "stream",
     "text": [
      "                            OLS Regression Results                            \n",
      "==============================================================================\n",
      "Dep. Variable:                      Y   R-squared:                       0.423\n",
      "Model:                            OLS   Adj. R-squared:                  0.418\n",
      "Method:                 Least Squares   F-statistic:                     71.99\n",
      "Date:                Mon, 07 May 2018   Prob (F-statistic):           2.32e-13\n",
      "Time:                        22:29:37   Log-Likelihood:                -306.54\n",
      "No. Observations:                 100   AIC:                             617.1\n",
      "Df Residuals:                      98   BIC:                             622.3\n",
      "Df Model:                           1                                         \n",
      "Covariance Type:            nonrobust                                         \n",
      "==============================================================================\n",
      "                 coef    std err          t      P>|t|      [0.025      0.975]\n",
      "------------------------------------------------------------------------------\n",
      "Intercept    -83.3058     17.415     -4.784      0.000    -117.866     -48.746\n",
      "X              0.8748      0.103      8.485      0.000       0.670       1.079\n",
      "==============================================================================\n",
      "Omnibus:                        3.173   Durbin-Watson:                   1.897\n",
      "Prob(Omnibus):                  0.205   Jarque-Bera (JB):                2.990\n",
      "Skew:                           0.422   Prob(JB):                        0.224\n",
      "Kurtosis:                       2.930   Cond. No.                     5.61e+03\n",
      "==============================================================================\n",
      "\n",
      "Warnings:\n",
      "[1] Standard Errors assume that the covariance matrix of the errors is correctly specified.\n",
      "[2] The condition number is large, 5.61e+03. This might indicate that there are\n",
      "strong multicollinearity or other numerical problems.\n",
      "            df       sum_sq      mean_sq          F        PR(>F)\n",
      "X          1.0  1977.643365  1977.643365  71.990525  2.319174e-13\n",
      "Residual  98.0  2692.146635    27.470884        NaN           NaN\n"
     ]
    },
    {
     "name": "stderr",
     "output_type": "stream",
     "text": [
      "/usr/local/lib/python3.5/dist-packages/scipy/stats/_distn_infrastructure.py:879: RuntimeWarning: invalid value encountered in greater\n",
      "  return (self.a < x) & (x < self.b)\n",
      "/usr/local/lib/python3.5/dist-packages/scipy/stats/_distn_infrastructure.py:879: RuntimeWarning: invalid value encountered in less\n",
      "  return (self.a < x) & (x < self.b)\n",
      "/usr/local/lib/python3.5/dist-packages/scipy/stats/_distn_infrastructure.py:1821: RuntimeWarning: invalid value encountered in less_equal\n",
      "  cond2 = cond0 & (x <= self.a)\n"
     ]
    }
   ],
   "source": [
    "cw_lm=ols('Y~X',data=data).fit()\n",
    "print(cw_lm.summary())\n",
    "print(sm.stats.anova_lm(cw_lm))"
   ]
  }
 ],
 "metadata": {
  "kernelspec": {
   "display_name": "Python 3",
   "language": "python",
   "name": "python3"
  },
  "language_info": {
   "codemirror_mode": {
    "name": "ipython",
    "version": 3
   },
   "file_extension": ".py",
   "mimetype": "text/x-python",
   "name": "python",
   "nbconvert_exporter": "python",
   "pygments_lexer": "ipython3",
   "version": "3.5.2"
  }
 },
 "nbformat": 4,
 "nbformat_minor": 2
}
