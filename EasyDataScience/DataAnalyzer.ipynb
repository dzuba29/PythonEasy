{
 "cells": [
  {
   "cell_type": "code",
   "execution_count": 108,
   "metadata": {},
   "outputs": [],
   "source": [
    "import pandas as pd\n",
    "import numpy as np\n",
    "import matplotlib.pyplot as plt\n",
    "from scipy.stats.contingency import expected_freq\n",
    "from scipy import stats\n",
    "import statsmodels.api as sm\n",
    "from sklearn.linear_model import LinearRegression\n",
    "%matplotlib inline"
   ]
  },
  {
   "cell_type": "markdown",
   "metadata": {},
   "source": [
    "# Задание\n",
    "## Вариант 8."
   ]
  },
  {
   "cell_type": "markdown",
   "metadata": {},
   "source": [
    "Обработайте статистические данные 100 независимых измерений некоторой физической величины Х.\n",
    "\n",
    "а) Составьте статистическое распределение частот выборки Х.\n",
    "\n",
    "б) Найдите эмпирическую функцию распределения и постройте ее график.\n",
    "\n",
    "в) Постройте полигон и гистограмму относительных частот.\n",
    "\n",
    "г) Вычислите числовые характеристики:\n",
    "\n",
    "• выборочную среднюю;\n",
    "\n",
    "• выборочную дисперсию;\n",
    "\n",
    "• выборочное среднее квадратическое отклонение;\n",
    "\n",
    "• коэффициенты эксцесса и ассиметрии.\n",
    "\n",
    "д) Выдвинув гипотезу о нормальном распределении, проверьте ее критерием согласия Пирсона при уровне значимости а = 0.05.\n",
    "\n",
    "е) Найдите точечные и интервальные оценки параметров распределения (доверительную вероятность принять равной 0.95). "
   ]
  },
  {
   "cell_type": "markdown",
   "metadata": {},
   "source": [
    "# Чтение из файла и гистограмма величин X"
   ]
  },
  {
   "cell_type": "code",
   "execution_count": 109,
   "metadata": {},
   "outputs": [
    {
     "data": {
      "text/html": [
       "<div>\n",
       "<table border=\"1\" class=\"dataframe\">\n",
       "  <thead>\n",
       "    <tr style=\"text-align: right;\">\n",
       "      <th></th>\n",
       "      <th>X</th>\n",
       "      <th>Y</th>\n",
       "    </tr>\n",
       "  </thead>\n",
       "  <tbody>\n",
       "    <tr>\n",
       "      <th>0</th>\n",
       "      <td>174</td>\n",
       "      <td>70</td>\n",
       "    </tr>\n",
       "    <tr>\n",
       "      <th>1</th>\n",
       "      <td>166</td>\n",
       "      <td>57</td>\n",
       "    </tr>\n",
       "    <tr>\n",
       "      <th>2</th>\n",
       "      <td>161</td>\n",
       "      <td>55</td>\n",
       "    </tr>\n",
       "    <tr>\n",
       "      <th>3</th>\n",
       "      <td>172</td>\n",
       "      <td>60</td>\n",
       "    </tr>\n",
       "    <tr>\n",
       "      <th>4</th>\n",
       "      <td>166</td>\n",
       "      <td>57</td>\n",
       "    </tr>\n",
       "  </tbody>\n",
       "</table>\n",
       "</div>"
      ],
      "text/plain": [
       "     X   Y\n",
       "0  174  70\n",
       "1  166  57\n",
       "2  161  55\n",
       "3  172  60\n",
       "4  166  57"
      ]
     },
     "execution_count": 109,
     "metadata": {},
     "output_type": "execute_result"
    }
   ],
   "source": [
    "data=pd.read_csv('data.csv')\n",
    "data.head()\n"
   ]
  },
  {
   "cell_type": "code",
   "execution_count": 110,
   "metadata": {},
   "outputs": [
    {
     "data": {
      "image/png": "[encoded data removed]",
      "text/plain": [
       "<matplotlib.figure.Figure at 0x7ff3323f7940>"
      ]
     },
     "metadata": {},
     "output_type": "display_data"
    }
   ],
   "source": [
    "plt.hist(data['X'],50, normed='True')\n",
    "plt.show()"
   ]
  },
  {
   "cell_type": "markdown",
   "metadata": {},
   "source": [
    "# Подсчет и вывод частот для xk"
   ]
  },
  {
   "cell_type": "code",
   "execution_count": 111,
   "metadata": {},
   "outputs": [
    {
     "name": "stdout",
     "output_type": "stream",
     "text": [
      "\n",
      "Максимум\n",
      "180\n",
      "\n",
      "Минимум\n",
      "156\n",
      "\n",
      "Дельта макс. и мин.\n",
      "24\n",
      "\n",
      "Кол-во отрезков\n",
      "8\n",
      "\n",
      "Шаг\n",
      "3\n"
     ]
    }
   ],
   "source": [
    "X_max=max(data['X'])\n",
    "X_min=min(data['X'])\n",
    "R=X_max-X_min\n",
    "K=int(round(1.0+3.32*np.log10(100)))\n",
    "H=int(R/K)\n",
    "\n",
    "print(\"\\nМаксимум\")\n",
    "print(X_max)\n",
    "\n",
    "print(\"\\nМинимум\")\n",
    "print(X_min)\n",
    "\n",
    "print(\"\\nДельта макс. и мин.\")\n",
    "print(R)\n",
    "               \n",
    "print(\"\\nКол-во отрезков\")\n",
    "print(K)\n",
    "\n",
    "print(\"\\nШаг\")             \n",
    "print(H)"
   ]
  },
  {
   "cell_type": "code",
   "execution_count": 112,
   "metadata": {},
   "outputs": [
    {
     "name": "stdout",
     "output_type": "stream",
     "text": [
      "\n",
      " Частоты по интервалам:\n",
      "[0.04, 0.06, 0.14, 0.24, 0.19, 0.2, 0.08, 0.05]\n",
      "\n",
      " Сумма частот:\n",
      "1\n"
     ]
    },
    {
     "data": {
      "image/png": "[encoded data removed]",
      "text/plain": [
       "<matplotlib.figure.Figure at 0x7ff33229ae48>"
      ]
     },
     "metadata": {},
     "output_type": "display_data"
    },
    {
     "data": {
      "image/png": "[encoded data removed]",
      "text/plain": [
       "<matplotlib.figure.Figure at 0x7ff332212da0>"
      ]
     },
     "metadata": {},
     "output_type": "display_data"
    }
   ],
   "source": [
    "def intervals_cumsum(x_min,step,size):\n",
    "    start=x_min;a=[];b=[]\n",
    "    for i in range(size):\n",
    "        a.append(start)\n",
    "        start+=step\n",
    "        b.append(start)\n",
    "    return a,b\n",
    "\n",
    "def count_values(data,element):\n",
    "    count=0;counts=[]\n",
    "    for item in data['X']:\n",
    "        if item<=element:\n",
    "            count+=1\n",
    "    return count\n",
    "   \n",
    "def counter_in(data,b):\n",
    "    delta=[];f=0\n",
    "    for index in range(len(b)):\n",
    "        first=count_values(data,b[index])-f\n",
    "        delta.append(first)\n",
    "        f+=first\n",
    "    return delta\n",
    "  \n",
    "        \n",
    "def frequences(ni,n):\n",
    "    freq=[]\n",
    "    for item in ni:\n",
    "        freq.append(item/n)\n",
    "    return freq\n",
    "        \n",
    "a,b=intervals_cumsum(X_min,H,K)\n",
    "ni=counter_in(data,b)\n",
    "freq=frequences(ni,100)\n",
    "print('\\n Частоты по интервалам:')\n",
    "print(freq)\n",
    "print('\\n Сумма частот:')\n",
    "print(round(sum(freq)))\n",
    "\n",
    "x=np.linspace(0,25,8)\n",
    "plt.plot(x,freq)\n",
    "plt.title('Полигон')\n",
    "plt.show()\n",
    "\n",
    "\n",
    "plt.hist(x,10,weights=freq)\n",
    "plt.title('Гистограмма')\n",
    "plt.show()\n"
   ]
  },
  {
   "cell_type": "markdown",
   "metadata": {},
   "source": [
    "# Эмпирическая функция распределения"
   ]
  },
  {
   "cell_type": "code",
   "execution_count": 113,
   "metadata": {},
   "outputs": [
    {
     "data": {
      "image/png": "[encoded data removed]",
      "text/plain": [
       "<matplotlib.figure.Figure at 0x7ff332496cf8>"
      ]
     },
     "metadata": {},
     "output_type": "display_data"
    }
   ],
   "source": [
    "ecdf = sm.distributions.ECDF(data['X'])\n",
    "x = np.linspace(min(data['X']), max(data['X']))\n",
    "y = ecdf(x)\n",
    "plt.step(x, y)\n",
    "plt.show()"
   ]
  },
  {
   "cell_type": "markdown",
   "metadata": {},
   "source": [
    "# Числовые характеристики"
   ]
  },
  {
   "cell_type": "code",
   "execution_count": 114,
   "metadata": {},
   "outputs": [
    {
     "name": "stdout",
     "output_type": "stream",
     "text": [
      "\n",
      "Нормальность распределения (Критерий Колмогорова):\n",
      "KstestResult(statistic=1.0, pvalue=0.0)\n",
      "\n",
      "Мода выборки:\n",
      "ModeResult(mode=array([167]), count=array([11]))\n",
      "\n",
      "Медиана:\n",
      "169.0\n",
      "\n",
      "Среднее значение:\n",
      "168.83\n",
      "\n",
      "Дисперсия:\n",
      "25.8411\n",
      "\n",
      "Среднее квадратичное отклонение:\n",
      "5.083414207006941\n",
      "\n",
      "Коэффициент вариации:\n",
      "25.8411\n",
      "\n",
      "Коэффициент асимметрии:\n",
      "-0.2649654163821299\n",
      "\n",
      "Эксцесс:\n",
      "-0.041702247996938446\n"
     ]
    }
   ],
   "source": [
    "print(\"\\nНормальность распределения (Критерий Колмогорова):\")\n",
    "\n",
    "print(stats.kstest(data['X'], 'norm'))\n",
    "\n",
    "print(\"\\nМода выборки:\")\n",
    "\n",
    "print(stats.mode(data['X']))\n",
    "\n",
    "print(\"\\nМедиана:\")\n",
    "\n",
    "print(np.median(data['X']))\n",
    "\n",
    "print(\"\\nСреднее значение:\")\n",
    "\n",
    "\n",
    "print(np.mean(data['X']))\n",
    "\n",
    "print(\"\\nДисперсия:\")\n",
    "\n",
    "print(np.var(data['X']))\n",
    "\n",
    "print(\"\\nСреднее квадратичное отклонение:\")\n",
    "\n",
    "print(np.std(data['X']))\n",
    "\n",
    "print(\"\\nКоэффициент вариации:\")\n",
    "\n",
    "print(np.var(data['X']))\n",
    "\n",
    "print(\"\\nКоэффициент асимметрии:\")\n",
    "\n",
    "print(stats.skew(data['X']))\n",
    "\n",
    "print(\"\\nЭксцесс:\")\n",
    "\n",
    "print(stats.kurtosis(data['X'])) "
   ]
  },
  {
   "cell_type": "markdown",
   "metadata": {},
   "source": [
    "# Точечные и интервальные оценки параметров распределения "
   ]
  },
  {
   "cell_type": "code",
   "execution_count": 115,
   "metadata": {},
   "outputs": [],
   "source": [
    "T_coef=1.98\n",
    "\n",
    "def get_mean_intervals(a,b):\n",
    "    means=[]\n",
    "    for i in range(len(a)):\n",
    "        means.append((a[i]+b[i])/2)\n",
    "    return means\n",
    "\n",
    "def mean_mult_freq(means,freq):\n",
    "    m=[]\n",
    "    for i in range(len(means)):\n",
    "        m.append(means[i]*freq[i])\n",
    "    return m\n",
    "\n",
    "def get_d(means):\n",
    "    data=[]\n",
    "    for item in means:\n",
    "        data.append(round(item-sum(mean_mult_freq(means,freq)),2))\n",
    "    return data\n",
    "\n",
    "def get_d2(d,freq):\n",
    "    data=[]\n",
    "    for i in range(len(d)):\n",
    "        data.append(round(d[i]**2*freq[i],2))\n",
    "    return data\n",
    "\n",
    "means=get_mean_intervals(a,b)\n",
    "\n",
    "d=get_d(means)\n",
    "d=get_d2(d,freq)\n",
    "\n",
    "# def find_s(data,mean):\n",
    "#     summ=0.0\n",
    "#     for item in data['X']:\n",
    "#         summ+=(item-mean)**2\n",
    "#     return np.sqrt(summ)\n",
    "\n",
    "S=np.sqrt(sum(d)*100/99)\n",
    "yolo=T_coef*S/np.sqrt(len(data['X']))\n",
    "xmax=round(np.mean(data['X'])+yolo,2)\n",
    "xmin=round(np.mean(data['X'])-yolo,2)"
   ]
  },
  {
   "cell_type": "markdown",
   "metadata": {},
   "source": [
    "Интервальная оценка"
   ]
  },
  {
   "cell_type": "code",
   "execution_count": 116,
   "metadata": {},
   "outputs": [
    {
     "name": "stdout",
     "output_type": "stream",
     "text": [
      "167.83<a<169.83\n"
     ]
    }
   ],
   "source": [
    "print(str(xmin)+'<a<'+str(xmax))"
   ]
  },
  {
   "cell_type": "code",
   "execution_count": 117,
   "metadata": {},
   "outputs": [
    {
     "name": "stdout",
     "output_type": "stream",
     "text": [
      "(0.6507666866642714, 2.319174102676314e-13)\n"
     ]
    }
   ],
   "source": [
    "coef_corr=stats.pearsonr(data['X'],data['Y'])\n",
    "print(coef_corr)"
   ]
  },
  {
   "cell_type": "markdown",
   "metadata": {},
   "source": [
    "Вывод:\n",
    "coef_corr должны быть равны нулю т.к X и Y независимы, но этого не происходит, следовательно переменные X и Y имеют нормальное распределение."
   ]
  },
  {
   "cell_type": "markdown",
   "metadata": {},
   "source": [
    "# Регрессия"
   ]
  },
  {
   "cell_type": "code",
   "execution_count": 126,
   "metadata": {},
   "outputs": [
    {
     "name": "stdout",
     "output_type": "stream",
     "text": [
      "\n",
      " Коэффициент линейной регрессии\n",
      "[0.87481957]\n",
      "\n",
      " R-квадрат\n",
      "0.42349728047199375\n",
      "\n",
      " Уравнение регрессии\n",
      "y=0.8748195703743263*(x-168.83)+64.39\n",
      "\n",
      " Множественный R\n",
      "0.6507666866642716\n"
     ]
    },
    {
     "data": {
      "image/png": "[encoded data removed]",
      "text/plain": [
       "<matplotlib.figure.Figure at 0x7ff33211b828>"
      ]
     },
     "metadata": {},
     "output_type": "display_data"
    }
   ],
   "source": [
    "lr=LinearRegression().fit(data[['X']], data[['Y']])\n",
    "\n",
    "print('\\n Коэффициент линейной регрессии')\n",
    "print(lr.coef_[0])\n",
    "print('\\n R-квадрат')\n",
    "print(lr.score(data[['X']], data[['Y']]))\n",
    "print('\\n Уравнение регрессии')\n",
    "print('y='+str(lr.coef_[0][0])+'*'+'(x-'+str(np.mean(data['X']))+')'+'+'+str(np.mean(data['Y'])))\n",
    "print('\\n Множественный R')\n",
    "print(data.corr()['Y'][0])\n",
    "\n",
    "\n",
    "\n",
    "plt.plot(data[['X']], lr.predict(data[['X']]), color='blue',linewidth=3)\n",
    "plt.scatter(data['X'],data['Y'])\n",
    "plt.show()\n"
   ]
  },
  {
   "cell_type": "code",
   "execution_count": 124,
   "metadata": {},
   "outputs": [
    {
     "data": {
      "text/plain": [
       "0.6507666866642716"
      ]
     },
     "execution_count": 124,
     "metadata": {},
     "output_type": "execute_result"
    }
   ],
   "source": []
  },
  {
   "cell_type": "code",
   "execution_count": null,
   "metadata": {},
   "outputs": [],
   "source": []
  }
 ],
 "metadata": {
  "kernelspec": {
   "display_name": "Python 3",
   "language": "python",
   "name": "python3"
  }
 },
 "nbformat": 4,
 "nbformat_minor": 2
}
